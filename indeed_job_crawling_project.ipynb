{
 "cells": [
  {
   "cell_type": "code",
   "execution_count": 41,
   "metadata": {},
   "outputs": [],
   "source": [
    "import selenium\n",
    "import pandas as pd\n",
    "import time\n",
    "from selenium import webdriver\n",
    "from selenium.webdriver.common.keys import Keys\n",
    "from selenium.common.exceptions import NoSuchElementException,StaleElementReferenceException\n",
    "from selenium.webdriver.support.ui import WebDriverWait\n",
    "from selenium.webdriver.support import expected_conditions as EC\n",
    "from selenium.webdriver.common.by import By"
   ]
  },
  {
   "cell_type": "code",
   "execution_count": 42,
   "metadata": {},
   "outputs": [],
   "source": [
    "driver=webdriver.Chrome(r\"C:\\Users\\dell\\Downloads\\chromedriver_win32\\chromedriver.exe\")\n",
    "driver.get(\"https://in.indeed.com/?r=us\")    "
   ]
  },
  {
   "cell_type": "code",
   "execution_count": 43,
   "metadata": {},
   "outputs": [],
   "source": [
    "driver.maximize_window()"
   ]
  },
  {
   "cell_type": "code",
   "execution_count": 44,
   "metadata": {},
   "outputs": [],
   "source": [
    "# entering “Data Scientist” in “Skill,Designations,Companies” field and enter “Bangalore” in “enter the location” field.\n",
    "driver.find_element_by_id(\"text-input-what\").send_keys(\"Data scientist\")\n",
    "time.sleep(1)\n",
    "driver.find_element_by_id(\"text-input-where\").send_keys(\"Bangalore\")\n",
    "time.sleep(1)\n",
    "driver.find_element_by_xpath(\"//*[@id='whatWhereFormId']/div[3]/button\").click()\n",
    "time.sleep(2)"
   ]
  },
  {
   "cell_type": "code",
   "execution_count": 45,
   "metadata": {},
   "outputs": [],
   "source": [
    "#creating empty list\n",
    "\n",
    "job_title=[]\n",
    "company_name=[]\n",
    "location=[]\n",
    "salary=[]\n",
    "posted_date=[]\n",
    "time_stamp=[]\n",
    "date_stamp=[]\n",
    "job_description=[]"
   ]
  },
  {
   "cell_type": "code",
   "execution_count": 46,
   "metadata": {},
   "outputs": [
    {
     "data": {
      "text/plain": [
       "['Data Scientist',\n",
       " 'Data Scientist 1',\n",
       " 'Data Scientist (NLP) for a Product Based Edutech Company',\n",
       " 'Data Scientist',\n",
       " 'EXECUTIVE- DATA SCIENTIST',\n",
       " 'Data Scientist',\n",
       " 'Data Science Specialist',\n",
       " 'Data Scientist - Machine Learning',\n",
       " 'Data Scientist',\n",
       " 'ASSOCIATE DATA SCIENTIST',\n",
       " 'Data Scientist',\n",
       " 'Data Scientist',\n",
       " 'Data Scientist',\n",
       " 'Data Scientist',\n",
       " 'Data Scientist-Metals Digital']"
      ]
     },
     "execution_count": 46,
     "metadata": {},
     "output_type": "execute_result"
    }
   ],
   "source": [
    "# scraping job title\n",
    "title=driver.find_elements_by_xpath(\"//a[@class='jobtitle turnstileLink ']\")\n",
    "for i in title:\n",
    "    if i.text is None:\n",
    "        job_title.append('--')\n",
    "    else:\n",
    "        job_title.append(i.text)\n",
    "job_title        \n",
    "        "
   ]
  },
  {
   "cell_type": "code",
   "execution_count": 47,
   "metadata": {},
   "outputs": [
    {
     "data": {
      "text/plain": [
       "['BreathX Technologies Inc, ( Canary Health Technologies)',\n",
       " 'PayPal',\n",
       " 'Shaw Academy',\n",
       " 'Acumont Solutions Private Limited',\n",
       " 'Nielsen',\n",
       " 'Hewlett Packard Enterprise',\n",
       " 'General Electric',\n",
       " 'Blue Yonder',\n",
       " 'Unusual Hire',\n",
       " 'Indegene',\n",
       " 'Pion Global Pvt Ltd',\n",
       " 'AgEye Technologoes',\n",
       " 'Affine Analytics',\n",
       " 'NatWest Group',\n",
       " 'ABB']"
      ]
     },
     "execution_count": 47,
     "metadata": {},
     "output_type": "execute_result"
    }
   ],
   "source": [
    "# scraping company name\n",
    "comp_name=driver.find_elements_by_xpath(\"//span[@class='company']\")\n",
    "for i in comp_name:\n",
    "    if i.text is None:\n",
    "        company_name.append('--')\n",
    "    else:\n",
    "        company_name.append(i.text)\n",
    "company_name        \n",
    "        "
   ]
  },
  {
   "cell_type": "code",
   "execution_count": 60,
   "metadata": {},
   "outputs": [
    {
     "data": {
      "text/plain": [
       "['Bengaluru, Karnataka',\n",
       " 'Bengaluru, Karnataka',\n",
       " 'Bengaluru, Karnataka',\n",
       " 'Bengaluru, Karnataka',\n",
       " 'Bengaluru, Karnataka',\n",
       " 'Bengaluru, Karnataka',\n",
       " 'Bengaluru, Karnataka',\n",
       " 'Bengaluru, Karnataka',\n",
       " 'Bengaluru, Karnataka',\n",
       " 'Bengaluru, Karnataka',\n",
       " 'Bengaluru, Karnataka',\n",
       " 'Bengaluru, Karnataka',\n",
       " 'Bengaluru, Karnataka',\n",
       " 'Bengaluru, Karnataka',\n",
       " 'Bengaluru, Karnataka']"
      ]
     },
     "execution_count": 60,
     "metadata": {},
     "output_type": "execute_result"
    }
   ],
   "source": [
    "# scraping city\n",
    "location_name=driver.find_elements_by_xpath(\"//div[@class='location accessible-contrast-color-location']\")\n",
    "for i in location_name:\n",
    "    if i.text is None:\n",
    "        location.append('--')\n",
    "    else:\n",
    "        location.append(i.text)\n",
    "location    "
   ]
  },
  {
   "cell_type": "code",
   "execution_count": 66,
   "metadata": {},
   "outputs": [
    {
     "data": {
      "text/plain": [
       "['₹15,00,000 a year',\n",
       " '₹20,000 - ₹40,000 a month',\n",
       " '₹5,00,000 - ₹8,00,000 a year',\n",
       " '₹15,00,000 a year',\n",
       " '₹20,000 - ₹40,000 a month',\n",
       " '₹5,00,000 - ₹8,00,000 a year',\n",
       " '₹15,00,000 a year',\n",
       " '₹20,000 - ₹40,000 a month',\n",
       " '₹5,00,000 - ₹8,00,000 a year',\n",
       " '₹15,00,000 a year',\n",
       " '₹20,000 - ₹40,000 a month',\n",
       " '₹5,00,000 - ₹8,00,000 a year',\n",
       " '₹15,00,000 a year',\n",
       " '₹20,000 - ₹40,000 a month',\n",
       " '₹5,00,000 - ₹8,00,000 a year']"
      ]
     },
     "execution_count": 66,
     "metadata": {},
     "output_type": "execute_result"
    }
   ],
   "source": [
    "# scraping salary\n",
    "sal=driver.find_elements_by_xpath(\"//span[@class='salaryText']\")\n",
    "for i in sal:\n",
    "    if i.text is None:\n",
    "        salary.append(\"--\")\n",
    "    else:\n",
    "        salary.append(i.text)\n",
    "salary       "
   ]
  },
  {
   "cell_type": "code",
   "execution_count": 50,
   "metadata": {},
   "outputs": [
    {
     "data": {
      "text/plain": [
       "['12 days ago',\n",
       " '6 days ago',\n",
       " '30+ days ago',\n",
       " '1 day ago',\n",
       " '6 days ago',\n",
       " '1 day ago',\n",
       " 'Today',\n",
       " '5 days ago',\n",
       " '16 days ago',\n",
       " 'Today']"
      ]
     },
     "execution_count": 50,
     "metadata": {},
     "output_type": "execute_result"
    }
   ],
   "source": [
    "# job when posted\n",
    "when_posted=driver.find_elements_by_xpath(\"//span[@class='date ']\")\n",
    "for i in when_posted:\n",
    "    if i.text is None:\n",
    "        posted_date.append('--')\n",
    "    else:\n",
    "        posted_date.append(i.text)\n",
    "posted_date[0:10]        "
   ]
  },
  {
   "cell_type": "code",
   "execution_count": 67,
   "metadata": {},
   "outputs": [
    {
     "name": "stdout",
     "output_type": "stream",
     "text": [
      "15 15 15 15 15\n"
     ]
    }
   ],
   "source": [
    "print(len(job_title),len(company_name),len(location),len(salary),len(posted_date))\n",
    "    "
   ]
  },
  {
   "cell_type": "code",
   "execution_count": 70,
   "metadata": {},
   "outputs": [
    {
     "data": {
      "text/html": [
       "<div>\n",
       "<style scoped>\n",
       "    .dataframe tbody tr th:only-of-type {\n",
       "        vertical-align: middle;\n",
       "    }\n",
       "\n",
       "    .dataframe tbody tr th {\n",
       "        vertical-align: top;\n",
       "    }\n",
       "\n",
       "    .dataframe thead th {\n",
       "        text-align: right;\n",
       "    }\n",
       "</style>\n",
       "<table border=\"1\" class=\"dataframe\">\n",
       "  <thead>\n",
       "    <tr style=\"text-align: right;\">\n",
       "      <th></th>\n",
       "      <th>job_title</th>\n",
       "      <th>company_name</th>\n",
       "      <th>location</th>\n",
       "      <th>posted_date</th>\n",
       "      <th>salary</th>\n",
       "    </tr>\n",
       "  </thead>\n",
       "  <tbody>\n",
       "    <tr>\n",
       "      <th>0</th>\n",
       "      <td>Data Scientist</td>\n",
       "      <td>BreathX Technologies Inc, ( Canary Health Tech...</td>\n",
       "      <td>Bengaluru, Karnataka</td>\n",
       "      <td>12 days ago</td>\n",
       "      <td>₹15,00,000 a year</td>\n",
       "    </tr>\n",
       "    <tr>\n",
       "      <th>1</th>\n",
       "      <td>Data Scientist 1</td>\n",
       "      <td>PayPal</td>\n",
       "      <td>Bengaluru, Karnataka</td>\n",
       "      <td>6 days ago</td>\n",
       "      <td>₹20,000 - ₹40,000 a month</td>\n",
       "    </tr>\n",
       "    <tr>\n",
       "      <th>2</th>\n",
       "      <td>Data Scientist (NLP) for a Product Based Edute...</td>\n",
       "      <td>Shaw Academy</td>\n",
       "      <td>Bengaluru, Karnataka</td>\n",
       "      <td>30+ days ago</td>\n",
       "      <td>₹5,00,000 - ₹8,00,000 a year</td>\n",
       "    </tr>\n",
       "    <tr>\n",
       "      <th>3</th>\n",
       "      <td>Data Scientist</td>\n",
       "      <td>Acumont Solutions Private Limited</td>\n",
       "      <td>Bengaluru, Karnataka</td>\n",
       "      <td>1 day ago</td>\n",
       "      <td>₹15,00,000 a year</td>\n",
       "    </tr>\n",
       "    <tr>\n",
       "      <th>4</th>\n",
       "      <td>EXECUTIVE- DATA SCIENTIST</td>\n",
       "      <td>Nielsen</td>\n",
       "      <td>Bengaluru, Karnataka</td>\n",
       "      <td>6 days ago</td>\n",
       "      <td>₹20,000 - ₹40,000 a month</td>\n",
       "    </tr>\n",
       "    <tr>\n",
       "      <th>5</th>\n",
       "      <td>Data Scientist</td>\n",
       "      <td>Hewlett Packard Enterprise</td>\n",
       "      <td>Bengaluru, Karnataka</td>\n",
       "      <td>1 day ago</td>\n",
       "      <td>₹5,00,000 - ₹8,00,000 a year</td>\n",
       "    </tr>\n",
       "    <tr>\n",
       "      <th>6</th>\n",
       "      <td>Data Science Specialist</td>\n",
       "      <td>General Electric</td>\n",
       "      <td>Bengaluru, Karnataka</td>\n",
       "      <td>Today</td>\n",
       "      <td>₹15,00,000 a year</td>\n",
       "    </tr>\n",
       "    <tr>\n",
       "      <th>7</th>\n",
       "      <td>Data Scientist - Machine Learning</td>\n",
       "      <td>Blue Yonder</td>\n",
       "      <td>Bengaluru, Karnataka</td>\n",
       "      <td>5 days ago</td>\n",
       "      <td>₹20,000 - ₹40,000 a month</td>\n",
       "    </tr>\n",
       "    <tr>\n",
       "      <th>8</th>\n",
       "      <td>Data Scientist</td>\n",
       "      <td>Unusual Hire</td>\n",
       "      <td>Bengaluru, Karnataka</td>\n",
       "      <td>16 days ago</td>\n",
       "      <td>₹5,00,000 - ₹8,00,000 a year</td>\n",
       "    </tr>\n",
       "    <tr>\n",
       "      <th>9</th>\n",
       "      <td>ASSOCIATE DATA SCIENTIST</td>\n",
       "      <td>Indegene</td>\n",
       "      <td>Bengaluru, Karnataka</td>\n",
       "      <td>Today</td>\n",
       "      <td>₹15,00,000 a year</td>\n",
       "    </tr>\n",
       "    <tr>\n",
       "      <th>10</th>\n",
       "      <td>Data Scientist</td>\n",
       "      <td>Pion Global Pvt Ltd</td>\n",
       "      <td>Bengaluru, Karnataka</td>\n",
       "      <td>26 days ago</td>\n",
       "      <td>₹20,000 - ₹40,000 a month</td>\n",
       "    </tr>\n",
       "    <tr>\n",
       "      <th>11</th>\n",
       "      <td>Data Scientist</td>\n",
       "      <td>AgEye Technologoes</td>\n",
       "      <td>Bengaluru, Karnataka</td>\n",
       "      <td>21 days ago</td>\n",
       "      <td>₹5,00,000 - ₹8,00,000 a year</td>\n",
       "    </tr>\n",
       "    <tr>\n",
       "      <th>12</th>\n",
       "      <td>Data Scientist</td>\n",
       "      <td>Affine Analytics</td>\n",
       "      <td>Bengaluru, Karnataka</td>\n",
       "      <td>5 days ago</td>\n",
       "      <td>₹15,00,000 a year</td>\n",
       "    </tr>\n",
       "    <tr>\n",
       "      <th>13</th>\n",
       "      <td>Data Scientist</td>\n",
       "      <td>NatWest Group</td>\n",
       "      <td>Bengaluru, Karnataka</td>\n",
       "      <td>30+ days ago</td>\n",
       "      <td>₹20,000 - ₹40,000 a month</td>\n",
       "    </tr>\n",
       "    <tr>\n",
       "      <th>14</th>\n",
       "      <td>Data Scientist-Metals Digital</td>\n",
       "      <td>ABB</td>\n",
       "      <td>Bengaluru, Karnataka</td>\n",
       "      <td>8 days ago</td>\n",
       "      <td>₹5,00,000 - ₹8,00,000 a year</td>\n",
       "    </tr>\n",
       "  </tbody>\n",
       "</table>\n",
       "</div>"
      ],
      "text/plain": [
       "                                            job_title  \\\n",
       "0                                      Data Scientist   \n",
       "1                                    Data Scientist 1   \n",
       "2   Data Scientist (NLP) for a Product Based Edute...   \n",
       "3                                      Data Scientist   \n",
       "4                           EXECUTIVE- DATA SCIENTIST   \n",
       "5                                      Data Scientist   \n",
       "6                             Data Science Specialist   \n",
       "7                   Data Scientist - Machine Learning   \n",
       "8                                      Data Scientist   \n",
       "9                            ASSOCIATE DATA SCIENTIST   \n",
       "10                                     Data Scientist   \n",
       "11                                     Data Scientist   \n",
       "12                                     Data Scientist   \n",
       "13                                     Data Scientist   \n",
       "14                      Data Scientist-Metals Digital   \n",
       "\n",
       "                                         company_name              location  \\\n",
       "0   BreathX Technologies Inc, ( Canary Health Tech...  Bengaluru, Karnataka   \n",
       "1                                              PayPal  Bengaluru, Karnataka   \n",
       "2                                        Shaw Academy  Bengaluru, Karnataka   \n",
       "3                   Acumont Solutions Private Limited  Bengaluru, Karnataka   \n",
       "4                                             Nielsen  Bengaluru, Karnataka   \n",
       "5                          Hewlett Packard Enterprise  Bengaluru, Karnataka   \n",
       "6                                    General Electric  Bengaluru, Karnataka   \n",
       "7                                         Blue Yonder  Bengaluru, Karnataka   \n",
       "8                                        Unusual Hire  Bengaluru, Karnataka   \n",
       "9                                            Indegene  Bengaluru, Karnataka   \n",
       "10                                Pion Global Pvt Ltd  Bengaluru, Karnataka   \n",
       "11                                 AgEye Technologoes  Bengaluru, Karnataka   \n",
       "12                                   Affine Analytics  Bengaluru, Karnataka   \n",
       "13                                      NatWest Group  Bengaluru, Karnataka   \n",
       "14                                                ABB  Bengaluru, Karnataka   \n",
       "\n",
       "     posted_date                        salary  \n",
       "0    12 days ago             ₹15,00,000 a year  \n",
       "1     6 days ago     ₹20,000 - ₹40,000 a month  \n",
       "2   30+ days ago  ₹5,00,000 - ₹8,00,000 a year  \n",
       "3      1 day ago             ₹15,00,000 a year  \n",
       "4     6 days ago     ₹20,000 - ₹40,000 a month  \n",
       "5      1 day ago  ₹5,00,000 - ₹8,00,000 a year  \n",
       "6          Today             ₹15,00,000 a year  \n",
       "7     5 days ago     ₹20,000 - ₹40,000 a month  \n",
       "8    16 days ago  ₹5,00,000 - ₹8,00,000 a year  \n",
       "9          Today             ₹15,00,000 a year  \n",
       "10   26 days ago     ₹20,000 - ₹40,000 a month  \n",
       "11   21 days ago  ₹5,00,000 - ₹8,00,000 a year  \n",
       "12    5 days ago             ₹15,00,000 a year  \n",
       "13  30+ days ago     ₹20,000 - ₹40,000 a month  \n",
       "14    8 days ago  ₹5,00,000 - ₹8,00,000 a year  "
      ]
     },
     "execution_count": 70,
     "metadata": {},
     "output_type": "execute_result"
    }
   ],
   "source": [
    "indeed_job=pd.DataFrame({'job_title':job_title,'company_name':company_name,'location':location,'posted_date':posted_date,'salary':salary})\n",
    "indeed_job"
   ]
  },
  {
   "cell_type": "code",
   "execution_count": 71,
   "metadata": {},
   "outputs": [],
   "source": [
    "indeed_job.to_csv('indeed_job.csv')"
   ]
  },
  {
   "cell_type": "code",
   "execution_count": null,
   "metadata": {},
   "outputs": [],
   "source": []
  }
 ],
 "metadata": {
  "kernelspec": {
   "display_name": "Python 3",
   "language": "python",
   "name": "python3"
  },
  "language_info": {
   "codemirror_mode": {
    "name": "ipython",
    "version": 3
   },
   "file_extension": ".py",
   "mimetype": "text/x-python",
   "name": "python",
   "nbconvert_exporter": "python",
   "pygments_lexer": "ipython3",
   "version": "3.7.6"
  }
 },
 "nbformat": 4,
 "nbformat_minor": 4
}
